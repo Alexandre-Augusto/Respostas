{
 "cells": [
  {
   "cell_type": "markdown",
   "metadata": {},
   "source": [
    "# PARTE A"
   ]
  },
  {
   "cell_type": "markdown",
   "metadata": {},
   "source": [
    "### Pergunta A1:"
   ]
  },
  {
   "cell_type": "markdown",
   "metadata": {},
   "source": [
    "Value at Risk é uma medida estatística que calcula a maior perda de um investimento que poderá ocorrer em determinado período, com determinado nível de confiança em relação à um valor esperado/média observada. Por exemplo, se o VaR para o período de um mês com um nível de confiança de 95% é igual a  1 milhão de reais, pode-se interpretar que com 95\\% de chance haverá perdas de até 1 milhão de reais no período de um mês, ou então com 5% de probabilidade a haverá perdas maiores do que 1 milhão de reais no mês.\n",
    "\n",
    "\n",
    "\n",
    "Para se calcular o VaR paramétrico supõe-se que o retorno de um ativo/carteira segue uma distribuição normal. Dessa forma, é utilizado somente o retorno esperado e o desvio padrão para se obter a distribuição de probabilidade dos retornos deste ativo.\n",
    "\n",
    "Para o caso de apenas um ativo temos:\n",
    "\n",
    "$VaR$ = $Z_{\\alpha}*\\sigma$\n",
    "\n",
    "##### onde,\n",
    "##### $Z_{\\alpha}$ é o Z-score para determinado nível de confiança\n",
    "##### $\\sigma$ é o desvio padrão dos retornos do ativo\n",
    "\n",
    "Para o caso de uma carteira de ativos temos:\n",
    "\n",
    "$VaR$ = $Z_{\\alpha}*\\sigma_{P}$\n",
    "\n",
    "##### onde,\n",
    "##### $Z_{\\alpha}$ é o Z-score para determinado nível de confiança\n",
    "##### $\\sigma_{P}$ é o desvio padrão do portfólio \"P\" expresso por uma matriz\n",
    "\n",
    "Para se calcular o VaR histórico é necessário coletar os retornos históricos de um ativo e colocá-los de modo   ascendente possibilitando a escolha do percentil destas observações de acordo com determinado nível de confiança.  Este método se baseia na suposição de que o padrão dos retornos históricos é um indicativo do comportamento dos  retornos no futuro. Este método é chamado de não paramétrico uma vez que, diferentemente do método anterior, não há estimação ou suposição de nenhum parâmetro, sendo o VaR estimado diretamente através dos dados históricos. Caso o nível de confiança for igual a 95\\%, o VaR estimado corresponde ao quinto percentil de determinada base de dados. "
   ]
  },
  {
   "cell_type": "markdown",
   "metadata": {},
   "source": [
    "### Pergunta A2:"
   ]
  },
  {
   "cell_type": "markdown",
   "metadata": {},
   "source": [
    "##### Uma forma de se medir a relação entre o valor de um ativo em renda fixa e as oscilações da taxa de juros é através da 'Duration'\n",
    "##### A duration de um título é uma medida quantitativa da exposição ao risco de um título em relação à mudanças das taxas de juros, sendo o preço de um título inversamente proporcional à sua taxa de juros.\n",
    "\n",
    "\n",
    "##### Primeiramente temos a Macaulay duration que representa o tempo médio para o detentor de um título receber, em valores presentes, o investimento inicial feito em um determinado título:\n",
    "##### $D$ = $\\Large\\frac{1}{P}\\sum\\limits_{t=1}^{T}$ $(\\Large\\frac{CF_t}{(1+y)^t}) t$\n",
    "\n",
    "##### Podemos obter a Duration Modificada através da Macauley duration através da seguinte fórmula:\n",
    "\n",
    "##### $MD = \\Large\\frac{D}{1+y}$\n",
    "\n",
    "##### A Duration Modificada também pode ser definida como $\\Large\\frac{-1}{P}\\frac{dP}{dy}$ , ou seja, temos a mudança infinitesimal do preço do título em porcentagem dividido pela mudança infinitesimal do 'yield'\n",
    "\n",
    "##### Se um título tiver uma duration modificada de 5, isto significa que uma mudança de 1 bps no yield causa uma mudança de 0,05% no preço do título\n",
    "\n",
    "##### A duration modificada é uma aproximação de primeira ordem das mudanças de preços de um título dado uma mudança no yield. Desse modo, mudanças relativamente grandes do yield faz com que a duration modificada não seja muito precisa, uma vez que a mudança entre o yield e o preço não é uma relação linear\n",
    "\n",
    "##### Desse modo, usando a aproximação de segunda ordem (convexidade) que leva em consideração a relação não linear entre o yield e o  preço, o resultado é muito mais preciso quando há grandes mudanças do yield. \n",
    "\n",
    "##### Sendo assim, a convexidade leva em consideração a curvatura do preço de um título em função das mudanças do yield:\n",
    "##### $CX = \\Large\\frac{1}{2}\\frac{1}{P}\\frac{d^2P}{dy^2}$ , ou seja, a convexidade é a segunda derivada do preço em relação ao yield\n",
    "\n",
    "##### A mudança percentual nos preços poderá ser calculada como:\n",
    "##### $ \\Delta P \\approx  [-MD * \\Delta y + CX * \\Delta y^2] * P$"
   ]
  },
  {
   "cell_type": "markdown",
   "metadata": {},
   "source": [
    "### Pergunta A3 --- PLANILHA ANEXADA NO E-MAIL"
   ]
  },
  {
   "cell_type": "markdown",
   "metadata": {},
   "source": [
    "# PARTE B"
   ]
  },
  {
   "cell_type": "markdown",
   "metadata": {},
   "source": [
    "### Questão 1"
   ]
  },
  {
   "cell_type": "markdown",
   "metadata": {},
   "source": [
    "### item a."
   ]
  },
  {
   "cell_type": "code",
   "execution_count": 18,
   "metadata": {},
   "outputs": [
    {
     "data": {
      "text/plain": [
       "81741.95114175977"
      ]
     },
     "execution_count": 18,
     "metadata": {},
     "output_type": "execute_result"
    }
   ],
   "source": [
    "import pandas as pd\n",
    "import numpy as np\n",
    "\n",
    "#Carregando o arquivo e atribuindo-o a uma variável\n",
    "df = pd.read_csv('C:/Users/alexa/Desktop/transactions_b3.csv')\n",
    "\n",
    "#Filtrando apenas o contrato 'DI1F24'\n",
    "df_DIfut = df.loc[df['TICKER_NAME'].isin(['DI1F24'])]\n",
    "\n",
    "#Filtrando apenas as compras\n",
    "df_DIfut_compra = df_DIfut.loc[df['BUY_SELL'].isin(['C'])]\n",
    "\n",
    "#Obtendo a média ponderada das compras realizadas de DI1F24\n",
    "np.average(df_DIfut_compra['PRICE'], weights=df_DIfut_compra['QTY'])"
   ]
  },
  {
   "cell_type": "markdown",
   "metadata": {},
   "source": [
    "### item b."
   ]
  },
  {
   "cell_type": "code",
   "execution_count": 19,
   "metadata": {},
   "outputs": [],
   "source": [
    "# Escolhendo apenar o contrato 'WINM22'\n",
    "df_WIN = df.loc[df['TICKER_NAME'].isin(['WINM22'])]\n",
    "\n",
    "# Criando um dataframe apenas com as compras deste contrato\n",
    "df_WIN_C = df_WIN.loc[df['BUY_SELL'].isin(['C'])]\n",
    "\n",
    "# Criando um dataframe apenas com as vendas deste contrato\n",
    "df_WIN_V = df_WIN.loc[df['BUY_SELL'].isin(['V'])]"
   ]
  },
  {
   "cell_type": "code",
   "execution_count": 20,
   "metadata": {},
   "outputs": [
    {
     "data": {
      "text/plain": [
       "3847668.0"
      ]
     },
     "execution_count": 20,
     "metadata": {},
     "output_type": "execute_result"
    }
   ],
   "source": [
    "# Diferença entre o valor das compras e o valor das vendas\n",
    "(df_WIN_C['QTY'] * df_WIN_C['PRICE']).sum() - (df_WIN_V['QTY'] * df_WIN_V['PRICE']).sum()"
   ]
  },
  {
   "cell_type": "code",
   "execution_count": 21,
   "metadata": {},
   "outputs": [
    {
     "data": {
      "text/plain": [
       "36"
      ]
     },
     "execution_count": 21,
     "metadata": {},
     "output_type": "execute_result"
    }
   ],
   "source": [
    "# Diferença no número de contratos comprados e vendidos\n",
    "(df_WIN_C['QTY'].sum() - df_WIN_V['QTY'].sum())"
   ]
  },
  {
   "cell_type": "markdown",
   "metadata": {},
   "source": [
    "### Questão 2"
   ]
  },
  {
   "cell_type": "code",
   "execution_count": 22,
   "metadata": {},
   "outputs": [],
   "source": [
    "# Carregando o arquivo\n",
    "df2 = pd.read_csv('C:/Users/alexa/Desktop/boletas_robo.csv')\n",
    "\n",
    "# Pegando apenas as colunas necessárias para juntar e comparar com o outro arquivo\n",
    "df2_mod = df2[['TRANSC_ID', 'TIME']]\n",
    "df2_mod = df2_mod.rename({'TIME':'TIME_DELAYED'}, axis=1)\n",
    "\n",
    "# Juntando os dois arquivos baseado na coluna 'TRANSC_ID'\n",
    "df_merged = df.merge(df2_mod, on='TRANSC_ID')\n",
    "\n",
    "# Convertendo as colunas para datetime\n",
    "for column in ['TIME', 'TIME_DELAYED']:\n",
    "    df_merged[column] = pd.to_datetime(df_merged[column])\n",
    "    \n",
    "# Calculando o atraso em segundos\n",
    "atraso_segundos = (df_merged['TIME_DELAYED'] - df_merged['TIME']).dt.total_seconds()"
   ]
  },
  {
   "cell_type": "code",
   "execution_count": 23,
   "metadata": {},
   "outputs": [
    {
     "data": {
      "text/plain": [
       "4520.3511"
      ]
     },
     "execution_count": 23,
     "metadata": {},
     "output_type": "execute_result"
    }
   ],
   "source": [
    "# Calculando a média do atraso\n",
    "atraso_segundos.mean()"
   ]
  },
  {
   "cell_type": "code",
   "execution_count": 24,
   "metadata": {},
   "outputs": [
    {
     "data": {
      "text/plain": [
       "9000.0"
      ]
     },
     "execution_count": 24,
     "metadata": {},
     "output_type": "execute_result"
    }
   ],
   "source": [
    "# Calculando o máximo do tempo de atraso\n",
    "atraso_segundos.max()"
   ]
  },
  {
   "cell_type": "code",
   "execution_count": 25,
   "metadata": {},
   "outputs": [
    {
     "data": {
      "text/plain": [
       "25.0"
      ]
     },
     "execution_count": 25,
     "metadata": {},
     "output_type": "execute_result"
    }
   ],
   "source": [
    "# Calculando o mínimo do tempo de atraso\n",
    "atraso_segundos.min()"
   ]
  },
  {
   "cell_type": "code",
   "execution_count": 26,
   "metadata": {},
   "outputs": [
    {
     "data": {
      "text/plain": [
       "2591.3011317924406"
      ]
     },
     "execution_count": 26,
     "metadata": {},
     "output_type": "execute_result"
    }
   ],
   "source": [
    "# Calculando o desvio padrão do tempo de atraso\n",
    "np.std(atraso_segundos)"
   ]
  }
 ],
 "metadata": {
  "kernelspec": {
   "display_name": "Python 3",
   "language": "python",
   "name": "python3"
  },
  "language_info": {
   "codemirror_mode": {
    "name": "ipython",
    "version": 3
   },
   "file_extension": ".py",
   "mimetype": "text/x-python",
   "name": "python",
   "nbconvert_exporter": "python",
   "pygments_lexer": "ipython3",
   "version": "3.7.6"
  }
 },
 "nbformat": 4,
 "nbformat_minor": 4
}
